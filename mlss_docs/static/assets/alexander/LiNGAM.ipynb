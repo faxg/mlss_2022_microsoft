{
 "cells": [
  {
   "cell_type": "markdown",
   "id": "7c24f81d",
   "metadata": {},
   "source": [
    "# LiNGAM: Testing its Assumptions\n",
    "\n",
    "In this notebook, we will try to infer cause and effect from synthetic data using LiNGAM. The goal is to evaluate the method when its assumptions hold and when they do not. Try to be creative in the latter case, but **do not forget to test linear models with a Gaussian distributed cause and noise**."
   ]
  },
  {
   "cell_type": "markdown",
   "id": "48c136e8",
   "metadata": {},
   "source": [
    "## Data Generation & Inspection\n",
    "\n",
    "Example data generation for a linear causal model with uniformly distributed cause X, noise N, and effect Y---a setting in which LiNGAM should output the correct direction."
   ]
  },
  {
   "cell_type": "code",
   "execution_count": null,
   "id": "3ccf5c78",
   "metadata": {
    "scrolled": true
   },
   "outputs": [],
   "source": [
    "import numpy as np\n",
    "import matplotlib.pyplot as plt\n",
    "# The cause X is non-Gaussian distributed\n",
    "X = np.random.uniform(size=500)\n",
    "# The noise N is non-Gaussian distributed\n",
    "N = np.random.uniform(size=500)\n",
    "# The effect Y is generated as a linear function\n",
    "# of it's cause(s) plus an additive noise term\n",
    "Y = 1.2 * X + N\n",
    "\n",
    "# Plotting\n",
    "plt.scatter(X,Y)\n",
    "plt.xlabel('Cause')\n",
    "plt.ylabel('Effect')\n",
    "plt.title('LiNGAM Model')\n",
    "plt.show()"
   ]
  },
  {
   "cell_type": "markdown",
   "id": "071294ed",
   "metadata": {},
   "source": [
    "## LiNGAM Implementation \n",
    "Note that this is one possible implementation that uses [HSIC](https://link.springer.com/chapter/10.1007/11564089_7), a kernel independence test, to assess the dependence between potential cause and residuals."
   ]
  },
  {
   "cell_type": "code",
   "execution_count": null,
   "id": "634665b9",
   "metadata": {},
   "outputs": [],
   "source": [
    "from sklearn.linear_model import LinearRegression\n",
    "from cdt.independence.stats import NormalizedHSIC\n",
    "\n",
    "# Output:\n",
    "# (causal direction, HSIC score for X->Y, HSIC score for Y->X)\n",
    "# @causal direction (output 1) is equal to\n",
    "#      1 if predicted DAG is X -> Y\n",
    "#     -1 if predicted DAG is Y -> X\n",
    "def SimpleLiNGAM(X,Y):\n",
    "    # Fit X -> Y\n",
    "    regXtoY = LinearRegression().fit(X.reshape(-1,1), Y)\n",
    "    yEst = regXtoY.predict(X.reshape(-1,1))\n",
    "    residualsXtoY = (Y - yEst)\n",
    "    # Fit Y -> X\n",
    "    regYtoX = LinearRegression().fit(Y.reshape(-1,1), X)\n",
    "    xEst = regYtoX.predict(Y.reshape(-1,1))\n",
    "    residualsYtoX = (X - xEst)\n",
    "    # Use normalized HSIC (a kernal dependence measure; see documentation)\n",
    "    # to measure the dependence between potential cause and residuals.\n",
    "    # The smaller the output the more evidence we found for independence.\n",
    "    test = NormalizedHSIC()\n",
    "    # Test LiNGAM hypothesis for X -> Y\n",
    "    hsicXtoY = test.predict(X, residualsXtoY)\n",
    "    # Test LiNGAM hypothesis for Y -> X\n",
    "    hsicYtoX = test.predict(Y, residualsYtoX)\n",
    "    # If hsicXtoY < hsicYtoX, X -> Y is the more likely causal model under LiNGAM.\n",
    "    if hsicXtoY < hsicYtoX:\n",
    "        return 1, hsicXtoY, hsicYtoX\n",
    "    else:\n",
    "        return -1, hsicXtoY, hsicYtoX"
   ]
  },
  {
   "cell_type": "markdown",
   "id": "f384f65e",
   "metadata": {},
   "source": [
    "## Let's apply LiNGAM!\n",
    "\n",
    "Here we apply <code>SimpleLiNGAM</code> to the data we generated above. If the first output of <code>SimpleLiNGAM</code> is equal to 1, it returns the correct direction (X causes Y). "
   ]
  },
  {
   "cell_type": "code",
   "execution_count": null,
   "id": "9f4633c1",
   "metadata": {},
   "outputs": [],
   "source": [
    "SimpleLiNGAM(X,Y)"
   ]
  },
  {
   "cell_type": "markdown",
   "id": "965d1045",
   "metadata": {},
   "source": [
    "## Now is your turn! \n",
    "\n",
    "Evaluate the performance of LiNGAM for different settings. Try, e.g., to generate the data with <code>np.random.normal(size=XXX)</code>, use non-linear data, or change the sample size. Report your results in a table, and let's discuss them.\n",
    "\n",
    "The code below is an example evaluation of the data generating process we considered above."
   ]
  },
  {
   "cell_type": "code",
   "execution_count": null,
   "id": "4ef0c1fb",
   "metadata": {},
   "outputs": [],
   "source": [
    "# Make your results reproducible by setting the seed of the random generator!\n",
    "np.random.seed(1)\n",
    "correctInferences = 0\n",
    "numberOfExperiments = 100\n",
    "sampleSize = 500\n",
    "slope = 1.2\n",
    "for i in range(numberOfExperiments):\n",
    "    # To keep it simple, let X be the cause, N the noise and Y the effect;\n",
    "    # s.t. X -> Y is the ground truth model. \n",
    "    ## MODIFY HERE\n",
    "    X = np.random.uniform(size=sampleSize)\n",
    "    N = np.random.uniform(size=sampleSize)\n",
    "    Y = slope * X + N\n",
    "    ## END MODIFY\n",
    "    (causalDirection, hsicXtoY, hsicYtoX) = SimpleLiNGAM(X,Y)\n",
    "    if causalDirection == 1:\n",
    "        # the decision was correct\n",
    "        correctInferences = correctInferences + 1\n",
    "        \n",
    "print(f\"Accuracy of LiNGAM: {correctInferences/numberOfExperiments}\")"
   ]
  },
  {
   "cell_type": "code",
   "execution_count": null,
   "id": "5627aa89",
   "metadata": {},
   "outputs": [],
   "source": []
  }
 ],
 "metadata": {
  "kernelspec": {
   "display_name": "Python 3 (ipykernel)",
   "language": "python",
   "name": "python3"
  },
  "language_info": {
   "codemirror_mode": {
    "name": "ipython",
    "version": 3
   },
   "file_extension": ".py",
   "mimetype": "text/x-python",
   "name": "python",
   "nbconvert_exporter": "python",
   "pygments_lexer": "ipython3",
   "version": "3.9.13"
  }
 },
 "nbformat": 4,
 "nbformat_minor": 5
}
