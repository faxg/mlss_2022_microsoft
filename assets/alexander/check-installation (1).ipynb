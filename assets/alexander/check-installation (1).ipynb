{
 "cells": [
  {
   "cell_type": "markdown",
   "id": "8fca00a3",
   "metadata": {},
   "source": [
    "## Run the script below to see if everything is properly installed.\n",
    "\n",
    "The output should be a plotted graph and [the answer to everything](https://en.wikipedia.org/wiki/42_(number)).\n",
    "\n",
    "**Note:** You can ignore the warning 'No GPU automatically detected. Setting SETTINGS.GPU to 0, and SETTINGS.NJOBS to cpu_count.'."
   ]
  },
  {
   "cell_type": "code",
   "execution_count": null,
   "id": "4eb8afc5",
   "metadata": {
    "scrolled": true
   },
   "outputs": [],
   "source": [
    "import cdt\n",
    "import networkx as nx\n",
    "import matplotlib.pyplot as plt\n",
    "from cdt.causality.graph import PC\n",
    "from cdt.metrics import SHD\n",
    "import io\n",
    "from causallearn.utils.GraphUtils import GraphUtils\n",
    "import matplotlib.image as mpimg\n",
    "import matplotlib.pyplot as plt\n",
    "\n",
    "def plot_graph(graph):\n",
    "    # convert to pydot format\n",
    "    pyd = nx.nx_pydot.to_pydot(graph)\n",
    "    # plot graph\n",
    "    tmp_png = pyd.create_png(f=\"png\")\n",
    "    fp = io.BytesIO(tmp_png)\n",
    "    img = mpimg.imread(fp, format='png')\n",
    "    plt.axis('off')\n",
    "    plt.imshow(img, aspect='auto')\n",
    "    plt.show()\n",
    "\n",
    "data, gt_graph = cdt.data.load_dataset('sachs')\n",
    "plot_graph(gt_graph)\n",
    "\n",
    "pc_algo = PC(CItest='gaussian')\n",
    "est_graph = pc_algo.predict(data)\n",
    "print(10 + SHD(gt_graph, est_graph))"
   ]
  },
  {
   "cell_type": "code",
   "execution_count": null,
   "id": "e6bbad74",
   "metadata": {},
   "outputs": [],
   "source": []
  }
 ],
 "metadata": {
  "kernelspec": {
   "display_name": "Python 3 (ipykernel)",
   "language": "python",
   "name": "python3"
  },
  "language_info": {
   "codemirror_mode": {
    "name": "ipython",
    "version": 3
   },
   "file_extension": ".py",
   "mimetype": "text/x-python",
   "name": "python",
   "nbconvert_exporter": "python",
   "pygments_lexer": "ipython3",
   "version": "3.9.13"
  }
 },
 "nbformat": 4,
 "nbformat_minor": 5
}
